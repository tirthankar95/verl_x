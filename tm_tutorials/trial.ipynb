{
 "cells": [
  {
   "cell_type": "code",
   "execution_count": 1,
   "id": "daa334ea",
   "metadata": {},
   "outputs": [],
   "source": [
    "import ray"
   ]
  },
  {
   "cell_type": "code",
   "execution_count": 2,
   "id": "e020d1db",
   "metadata": {},
   "outputs": [],
   "source": [
    "@ray.remote\n",
    "class ActorRolloutRef:\n",
    "    def __init__(self, name):\n",
    "        self.name = name \n",
    "    def get_name(self):\n",
    "        return self.name\n",
    "    \n",
    "class ActorRolloutRefOg:\n",
    "    def __init__(self, name):\n",
    "        self.name = name \n",
    "    def get_name(self):\n",
    "        return self.name"
   ]
  },
  {
   "cell_type": "code",
   "execution_count": 3,
   "id": "6cb40e3a",
   "metadata": {},
   "outputs": [
    {
     "name": "stderr",
     "output_type": "stream",
     "text": [
      "2025-08-31 00:46:47,794\tINFO worker.py:1747 -- Connecting to existing Ray cluster at address: 127.0.0.1:6379...\n",
      "2025-08-31 00:46:47,806\tINFO worker.py:1918 -- Connected to Ray cluster. View the dashboard at \u001b[1m\u001b[32mhttp://127.0.0.1:8265 \u001b[39m\u001b[22m\n"
     ]
    },
    {
     "data": {
      "text/plain": [
       "'Inception'"
      ]
     },
     "execution_count": 3,
     "metadata": {},
     "output_type": "execute_result"
    }
   ],
   "source": [
    "ray_worker = ray.remote(ActorRolloutRefOg)\n",
    "obj = ray_worker.remote('Inception')\n",
    "promise = obj.get_name.remote()\n",
    "ray.get(promise)"
   ]
  },
  {
   "cell_type": "code",
   "execution_count": 4,
   "id": "3bd2c54c",
   "metadata": {},
   "outputs": [
    {
     "data": {
      "text/plain": [
       "'Inception'"
      ]
     },
     "execution_count": 4,
     "metadata": {},
     "output_type": "execute_result"
    }
   ],
   "source": [
    "ray_worker = ActorRolloutRef.remote('Inception')\n",
    "promise = ray_worker.get_name.remote()\n",
    "ray.get(promise)"
   ]
  },
  {
   "cell_type": "code",
   "execution_count": 5,
   "id": "b87179e2",
   "metadata": {},
   "outputs": [
    {
     "name": "stderr",
     "output_type": "stream",
     "text": [
      "2025-08-31 01:34:14,685\tINFO worker.py:1747 -- Connecting to existing Ray cluster at address: 127.0.0.1:6379...\n",
      "2025-08-31 01:34:14,704\tINFO worker.py:1918 -- Connected to Ray cluster. View the dashboard at \u001b[1m\u001b[32mhttp://127.0.0.1:8265 \u001b[39m\u001b[22m\n"
     ]
    },
    {
     "data": {
      "text/plain": [
       "{'d9327891687774ad3e99128b4afa02d344320dcd8646990dac07d1a2': {'CPU': 8.0,\n",
       "  'memory': 9132425216.0,\n",
       "  'node:127.0.0.1': 1.0,\n",
       "  'object_store_memory': 2147483648.0,\n",
       "  'node:__internal_head__': 1.0}}"
      ]
     },
     "execution_count": 5,
     "metadata": {},
     "output_type": "execute_result"
    }
   ],
   "source": [
    "import ray\n",
    "\n",
    "ray.init()\n",
    "ray.state.available_resources_per_node()"
   ]
  },
  {
   "cell_type": "code",
   "execution_count": 3,
   "id": "f78d5464",
   "metadata": {},
   "outputs": [],
   "source": [
    "import time\n",
    "\n",
    "database = [\n",
    "    \"Learning\", \"Ray\",\n",
    "    \"Flexible\", \"Distributed\", \"Python\", \"for\", \"Machine\", \"Learning\"\n",
    "]\n",
    "\n",
    "\n",
    "def retrieve(item):\n",
    "    time.sleep(item / 10.)\n",
    "    return item, database[item]"
   ]
  },
  {
   "cell_type": "code",
   "execution_count": 4,
   "id": "361eaa59",
   "metadata": {},
   "outputs": [
    {
     "name": "stdout",
     "output_type": "stream",
     "text": [
      "Runtime: 2.80 seconds, data:\n",
      "(0, 'Learning')\n",
      "(1, 'Ray')\n",
      "(2, 'Flexible')\n",
      "(3, 'Distributed')\n",
      "(4, 'Python')\n",
      "(5, 'for')\n",
      "(6, 'Machine')\n",
      "(7, 'Learning')\n"
     ]
    }
   ],
   "source": [
    "def print_runtime(input_data, start_time):\n",
    "    print(f'Runtime: {time.time() - start_time:.2f} seconds, data:')\n",
    "    print(*input_data, sep=\"\\n\")\n",
    "\n",
    "\n",
    "start = time.time()\n",
    "data = [retrieve(item) for item in range(8)]\n",
    "print_runtime(data, start)"
   ]
  },
  {
   "cell_type": "markdown",
   "id": "c8995f54",
   "metadata": {},
   "source": [
    "`https://docs.ray.io/en/latest/ray-core/examples/gentle_walkthrough.html`"
   ]
  },
  {
   "cell_type": "code",
   "execution_count": 5,
   "id": "a40c096f",
   "metadata": {},
   "outputs": [],
   "source": [
    "import ray \n",
    "\n",
    "'''\n",
    "With the decorator, the function retrieve_task becomes a :ref:ray-remote-functions<Ray task>_. A Ray task is a function that Ray executes on a different process from where it was called, and possibly on a different machine.\n",
    "Ray is convenient to use because you can continue writing Python code, without having to significantly change your approach or programming style. Using the :func:ray.remote()<@ray.remote> decorator on the retrieve function is the intended use of decorators, and you did not modify the original code in this example.\n",
    "To retrieve database entries and measure performance, you do not need to make many changes to the code. Here’s an overview of the process:\n",
    "start = time.time()\n",
    "'''\n",
    "@ray.remote\n",
    "def retrieve_task(item):\n",
    "    return retrieve(item)"
   ]
  },
  {
   "cell_type": "code",
   "execution_count": null,
   "id": "1b7dbd8b",
   "metadata": {},
   "outputs": [
    {
     "name": "stderr",
     "output_type": "stream",
     "text": [
      "2025-09-02 15:01:45,514\tINFO worker.py:1908 -- Started a local Ray instance. View the dashboard at \u001b[1m\u001b[32mhttp://127.0.0.1:8265 \u001b[39m\u001b[22m\n"
     ]
    },
    {
     "data": {
      "application/vnd.jupyter.widget-view+json": {
       "model_id": "aaa4c17f76474efa8684081a5710373c",
       "version_major": 2,
       "version_minor": 0
      },
      "text/html": [
       "<div class=\"lm-Widget p-Widget lm-Panel p-Panel jp-Cell-outputWrapper\">\n",
       "    <div style=\"margin-left: 50px;display: flex;flex-direction: row;align-items: center\">\n",
       "        <div class=\"jp-RenderedHTMLCommon\" style=\"display: flex; flex-direction: row;\">\n",
       "  <svg viewBox=\"0 0 567 224\" fill=\"none\" xmlns=\"http://www.w3.org/2000/svg\" style=\"height: 3em;\">\n",
       "    <g clip-path=\"url(#clip0_4338_178347)\">\n",
       "        <path d=\"M341.29 165.561H355.29L330.13 129.051C345.63 123.991 354.21 112.051 354.21 94.2307C354.21 71.3707 338.72 58.1807 311.88 58.1807H271V165.561H283.27V131.661H311.8C314.25 131.661 316.71 131.501 319.01 131.351L341.25 165.561H341.29ZM283.29 119.851V70.0007H311.82C331.3 70.0007 342.34 78.2907 342.34 94.5507C342.34 111.271 331.34 119.861 311.82 119.861L283.29 119.851ZM451.4 138.411L463.4 165.561H476.74L428.74 58.1807H416L367.83 165.561H380.83L392.83 138.411H451.4ZM446.19 126.601H398L422 72.1407L446.24 126.601H446.19ZM526.11 128.741L566.91 58.1807H554.35L519.99 114.181L485.17 58.1807H472.44L514.01 129.181V165.541H526.13V128.741H526.11Z\" fill=\"var(--jp-ui-font-color0)\"/>\n",
       "        <path d=\"M82.35 104.44C84.0187 97.8827 87.8248 92.0678 93.1671 87.9146C98.5094 83.7614 105.083 81.5067 111.85 81.5067C118.617 81.5067 125.191 83.7614 130.533 87.9146C135.875 92.0678 139.681 97.8827 141.35 104.44H163.75C164.476 101.562 165.622 98.8057 167.15 96.2605L127.45 56.5605C121.071 60.3522 113.526 61.6823 106.235 60.3005C98.9443 58.9187 92.4094 54.9203 87.8602 49.0574C83.3109 43.1946 81.0609 35.8714 81.5332 28.4656C82.0056 21.0599 85.1679 14.0819 90.4252 8.8446C95.6824 3.60726 102.672 0.471508 110.08 0.0272655C117.487 -0.416977 124.802 1.86091 130.647 6.4324C136.493 11.0039 140.467 17.5539 141.821 24.8501C143.175 32.1463 141.816 39.6859 138 46.0505L177.69 85.7505C182.31 82.9877 187.58 81.4995 192.962 81.4375C198.345 81.3755 203.648 82.742 208.33 85.3976C213.012 88.0532 216.907 91.9029 219.616 96.5544C222.326 101.206 223.753 106.492 223.753 111.875C223.753 117.258 222.326 122.545 219.616 127.197C216.907 131.848 213.012 135.698 208.33 138.353C203.648 141.009 198.345 142.375 192.962 142.313C187.58 142.251 182.31 140.763 177.69 138L138 177.7C141.808 184.071 143.155 191.614 141.79 198.91C140.424 206.205 136.44 212.75 130.585 217.313C124.731 221.875 117.412 224.141 110.004 223.683C102.596 223.226 95.6103 220.077 90.3621 214.828C85.1139 209.58 81.9647 202.595 81.5072 195.187C81.0497 187.779 83.3154 180.459 87.878 174.605C92.4405 168.751 98.9853 164.766 106.281 163.401C113.576 162.035 121.119 163.383 127.49 167.19L167.19 127.49C165.664 124.941 164.518 122.182 163.79 119.3H141.39C139.721 125.858 135.915 131.673 130.573 135.826C125.231 139.98 118.657 142.234 111.89 142.234C105.123 142.234 98.5494 139.98 93.2071 135.826C87.8648 131.673 84.0587 125.858 82.39 119.3H60C58.1878 126.495 53.8086 132.78 47.6863 136.971C41.5641 141.163 34.1211 142.972 26.7579 142.059C19.3947 141.146 12.6191 137.574 7.70605 132.014C2.79302 126.454 0.0813599 119.29 0.0813599 111.87C0.0813599 104.451 2.79302 97.2871 7.70605 91.7272C12.6191 86.1673 19.3947 82.5947 26.7579 81.6817C34.1211 80.7686 41.5641 82.5781 47.6863 86.7696C53.8086 90.9611 58.1878 97.2456 60 104.44H82.35ZM100.86 204.32C103.407 206.868 106.759 208.453 110.345 208.806C113.93 209.159 117.527 208.258 120.522 206.256C123.517 204.254 125.725 201.276 126.771 197.828C127.816 194.38 127.633 190.677 126.253 187.349C124.874 184.021 122.383 181.274 119.205 179.577C116.027 177.88 112.359 177.337 108.826 178.042C105.293 178.746 102.113 180.654 99.8291 183.44C97.5451 186.226 96.2979 189.718 96.3 193.32C96.2985 195.364 96.7006 197.388 97.4831 199.275C98.2656 201.163 99.4132 202.877 100.86 204.32ZM204.32 122.88C206.868 120.333 208.453 116.981 208.806 113.396C209.159 109.811 208.258 106.214 206.256 103.219C204.254 100.223 201.275 98.0151 197.827 96.97C194.38 95.9249 190.676 96.1077 187.348 97.4873C184.02 98.8669 181.274 101.358 179.577 104.536C177.879 107.714 177.337 111.382 178.041 114.915C178.746 118.448 180.653 121.627 183.439 123.911C186.226 126.195 189.717 127.443 193.32 127.44C195.364 127.443 197.388 127.042 199.275 126.259C201.163 125.476 202.878 124.328 204.32 122.88ZM122.88 19.4205C120.333 16.8729 116.981 15.2876 113.395 14.9347C109.81 14.5817 106.213 15.483 103.218 17.4849C100.223 19.4868 98.0146 22.4654 96.9696 25.9131C95.9245 29.3608 96.1073 33.0642 97.4869 36.3922C98.8665 39.7202 101.358 42.4668 104.535 44.1639C107.713 45.861 111.381 46.4036 114.914 45.6992C118.447 44.9949 121.627 43.0871 123.911 40.301C126.195 37.515 127.442 34.0231 127.44 30.4205C127.44 28.3772 127.038 26.3539 126.255 24.4664C125.473 22.5788 124.326 20.8642 122.88 19.4205ZM19.42 100.86C16.8725 103.408 15.2872 106.76 14.9342 110.345C14.5813 113.93 15.4826 117.527 17.4844 120.522C19.4863 123.518 22.4649 125.726 25.9127 126.771C29.3604 127.816 33.0638 127.633 36.3918 126.254C39.7198 124.874 42.4664 122.383 44.1635 119.205C45.8606 116.027 46.4032 112.359 45.6988 108.826C44.9944 105.293 43.0866 102.114 40.3006 99.8296C37.5145 97.5455 34.0227 96.2983 30.42 96.3005C26.2938 96.3018 22.337 97.9421 19.42 100.86ZM100.86 100.86C98.3125 103.408 96.7272 106.76 96.3742 110.345C96.0213 113.93 96.9226 117.527 98.9244 120.522C100.926 123.518 103.905 125.726 107.353 126.771C110.8 127.816 114.504 127.633 117.832 126.254C121.16 124.874 123.906 122.383 125.604 119.205C127.301 116.027 127.843 112.359 127.139 108.826C126.434 105.293 124.527 102.114 121.741 99.8296C118.955 97.5455 115.463 96.2983 111.86 96.3005C109.817 96.299 107.793 96.701 105.905 97.4835C104.018 98.2661 102.303 99.4136 100.86 100.86Z\" fill=\"#00AEEF\"/>\n",
       "    </g>\n",
       "    <defs>\n",
       "        <clipPath id=\"clip0_4338_178347\">\n",
       "            <rect width=\"566.93\" height=\"223.75\" fill=\"white\"/>\n",
       "        </clipPath>\n",
       "    </defs>\n",
       "  </svg>\n",
       "</div>\n",
       "\n",
       "        <table class=\"jp-RenderedHTMLCommon\" style=\"border-collapse: collapse;color: var(--jp-ui-font-color1);font-size: var(--jp-ui-font-size1);\">\n",
       "    <tr>\n",
       "        <td style=\"text-align: left\"><b>Python version:</b></td>\n",
       "        <td style=\"text-align: left\"><b>3.12.3</b></td>\n",
       "    </tr>\n",
       "    <tr>\n",
       "        <td style=\"text-align: left\"><b>Ray version:</b></td>\n",
       "        <td style=\"text-align: left\"><b>2.47.1</b></td>\n",
       "    </tr>\n",
       "    <tr>\n",
       "    <td style=\"text-align: left\"><b>Dashboard:</b></td>\n",
       "    <td style=\"text-align: left\"><b><a href=\"http://127.0.0.1:8265\" target=\"_blank\">http://127.0.0.1:8265</a></b></td>\n",
       "</tr>\n",
       "\n",
       "</table>\n",
       "\n",
       "    </div>\n",
       "</div>\n"
      ],
      "text/plain": [
       "RayContext(dashboard_url='127.0.0.1:8265', python_version='3.12.3', ray_version='2.47.1', ray_commit='61d3f2f1aa33563faa398105f4abda88cb39440b')"
      ]
     },
     "execution_count": 6,
     "metadata": {},
     "output_type": "execute_result"
    },
    {
     "name": "stderr",
     "output_type": "stream",
     "text": [
      "\u001b[33m(raylet)\u001b[0m [2025-09-02 19:58:06,706 E 161083 161083] (raylet) node_manager.cc:3193: 2 Workers (tasks / actors) killed due to memory pressure (OOM), 0 Workers crashed due to other reasons at node (ID: 3eb9113167fa495f433e967f7fb989d54914bf5af89f22841c556171, IP: 192.168.1.9) over the last time period. To see more information about the Workers killed on this node, use `ray logs raylet.out -ip 192.168.1.9`\n",
      "\u001b[33m(raylet)\u001b[0m \n",
      "\u001b[33m(raylet)\u001b[0m Refer to the documentation on how to address the out of memory issue: https://docs.ray.io/en/latest/ray-core/scheduling/ray-oom-prevention.html. Consider provisioning more memory on this node or reducing task parallelism by requesting more CPUs per task. To adjust the kill threshold, set the environment variable `RAY_memory_usage_threshold` when starting Ray. To disable worker killing, set the environment variable `RAY_memory_monitor_refresh_ms` to zero.\n",
      "\u001b[33m(raylet)\u001b[0m \n",
      "\u001b[33m(raylet)\u001b[0m [2025-09-02 19:59:06,707 E 161083 161083] (raylet) node_manager.cc:3193: 10 Workers (tasks / actors) killed due to memory pressure (OOM), 0 Workers crashed due to other reasons at node (ID: 3eb9113167fa495f433e967f7fb989d54914bf5af89f22841c556171, IP: 192.168.1.9) over the last time period. To see more information about the Workers killed on this node, use `ray logs raylet.out -ip 192.168.1.9`\n",
      "\u001b[33m(raylet)\u001b[0m Refer to the documentation on how to address the out of memory issue: https://docs.ray.io/en/latest/ray-core/scheduling/ray-oom-prevention.html. Consider provisioning more memory on this node or reducing task parallelism by requesting more CPUs per task. To adjust the kill threshold, set the environment variable `RAY_memory_usage_threshold` when starting Ray. To disable worker killing, set the environment variable `RAY_memory_monitor_refresh_ms` to zero.\n"
     ]
    },
    {
     "name": "stdout",
     "output_type": "stream",
     "text": [
      "\u001b[33m(raylet)\u001b[0m The autoscaler failed with the following error:\n",
      "Terminated with signal 15\n",
      "  File \"/home/tmittra/ai/lib/python3.12/site-packages/ray/autoscaler/_private/monitor.py\", line 747, in <module>\n",
      "    monitor.run()\n",
      "  File \"/home/tmittra/ai/lib/python3.12/site-packages/ray/autoscaler/_private/monitor.py\", line 604, in run\n",
      "    self._run()\n",
      "  File \"/home/tmittra/ai/lib/python3.12/site-packages/ray/autoscaler/_private/monitor.py\", line 459, in _run\n",
      "    time.sleep(AUTOSCALER_UPDATE_INTERVAL_S)\n",
      "\n"
     ]
    }
   ],
   "source": [
    "import ray\n",
    "ray.init()"
   ]
  },
  {
   "cell_type": "code",
   "execution_count": 7,
   "id": "3f871185",
   "metadata": {},
   "outputs": [
    {
     "name": "stdout",
     "output_type": "stream",
     "text": [
      "Runtime: 1.30 seconds, data:\n",
      "(0, 'Learning')\n",
      "(1, 'Ray')\n",
      "(2, 'Flexible')\n",
      "(3, 'Distributed')\n",
      "(4, 'Python')\n",
      "(5, 'for')\n",
      "(6, 'Machine')\n",
      "(7, 'Learning')\n"
     ]
    }
   ],
   "source": [
    "start = time.time()\n",
    "object_references = [\n",
    "    retrieve_task.remote(item) for item in range(8)\n",
    "]\n",
    "data = ray.get(object_references)\n",
    "print_runtime(data, start)"
   ]
  },
  {
   "cell_type": "code",
   "execution_count": 8,
   "id": "15713add",
   "metadata": {},
   "outputs": [
    {
     "name": "stdout",
     "output_type": "stream",
     "text": [
      "Runtime: 0.77 seconds, data:\n",
      "(0, 'Learning')\n",
      "(1, 'Ray')\n",
      "(2, 'Flexible')\n",
      "(3, 'Distributed')\n",
      "(4, 'Python')\n",
      "(5, 'for')\n",
      "(6, 'Machine')\n",
      "(7, 'Learning')\n"
     ]
    }
   ],
   "source": [
    "@ray.remote \n",
    "def retrieve_task(item, db):\n",
    "    time.sleep(item / 10.)\n",
    "    return item, db[item]\n",
    "\n",
    "'''\n",
    " In this scenario the database is only defined on the driver, but the worker processes need access \n",
    " to it to run the retrieve task. Ray’s solution for sharing objects between the driver and workers \n",
    " or between workers is to use the ray.put function to place the data into Ray’s distributed object store. \n",
    " In the retrieve_task definition, you can add a db argument to pass later as the db_object_ref object.\n",
    "'''\n",
    "# **db_object_ref** just a reference (a pointer/ID) to that object in the store, not the data itself.\n",
    "# This allows any worker to fetch the object from the store if they are given the reference.\n",
    "# Ray workers are isolated processes. They don’t automatically “see” the variables defined in the driver (your main script).\n",
    "db_object_ref = ray.put(database)\n",
    "start = time.time()\n",
    "object_references = [\n",
    "    retrieve_task.remote(item, db=db_object_ref) for item in range(8)\n",
    "]\n",
    "data = ray.get(object_references)\n",
    "print_runtime(data, start)\n"
   ]
  },
  {
   "cell_type": "code",
   "execution_count": 13,
   "id": "f04de80c",
   "metadata": {},
   "outputs": [
    {
     "name": "stdout",
     "output_type": "stream",
     "text": [
      "Runtime: 0.01 seconds, data:\n",
      "(0, 'Learning')\n",
      "Runtime: 0.11 seconds, data:\n",
      "(1, 'Ray')\n",
      "Runtime: 0.21 seconds, data:\n",
      "\n",
      "Runtime: 0.21 seconds, data:\n",
      "(2, 'Flexible')\n",
      "Runtime: 0.31 seconds, data:\n",
      "\n",
      "Runtime: 0.31 seconds, data:\n",
      "(3, 'Distributed')\n",
      "Runtime: 0.41 seconds, data:\n",
      "(4, 'Python')\n",
      "Runtime: 0.51 seconds, data:\n",
      "\n",
      "Runtime: 0.51 seconds, data:\n",
      "(5, 'for')\n",
      "Runtime: 0.61 seconds, data:\n",
      "(6, 'Machine')\n",
      "Runtime: 0.71 seconds, data:\n",
      "(7, 'Learning')\n",
      "Runtime: 0.71 seconds, data:\n",
      "(0, 'Learning')\n",
      "(1, 'Ray')\n",
      "(2, 'Flexible')\n",
      "(3, 'Distributed')\n",
      "(4, 'Python')\n",
      "(5, 'for')\n",
      "(6, 'Machine')\n",
      "(7, 'Learning')\n"
     ]
    }
   ],
   "source": [
    "start = time.time()\n",
    "object_references = [\n",
    "    retrieve_task.remote(item, db=db_object_ref) for item in range(8)\n",
    "]\n",
    "\n",
    "all_data = []\n",
    "while len(object_references) > 0:\n",
    "    '''\n",
    "    finished: list of object refs that completed within 0.1 seconds.\n",
    "    object_references: list of the remaining (still pending) ones.\n",
    "    '''\n",
    "    finished, object_references = ray.wait(\n",
    "        object_references,\n",
    "        timeout=0.1, \n",
    "    )\n",
    "    data = ray.get(finished)\n",
    "    print_runtime(data, start)\n",
    "    all_data.extend(data)\n",
    "\n",
    "print_runtime(all_data, start)"
   ]
  },
  {
   "cell_type": "code",
   "execution_count": 16,
   "id": "726a1f19",
   "metadata": {},
   "outputs": [
    {
     "name": "stdout",
     "output_type": "stream",
     "text": [
      "Runtime: 1.33 seconds, data:\n",
      "((0, 'Learning'), (1, 'Ray'))\n",
      "((2, 'Flexible'), (3, 'Distributed'))\n",
      "((4, 'Python'), (5, 'for'))\n",
      "((6, 'Machine'), (7, 'Learning'))\n"
     ]
    }
   ],
   "source": [
    "@ray.remote\n",
    "def followup_task(data):\n",
    "    index, item = data\n",
    "    followup = retrieve(index + 1)\n",
    "    return data, followup\n",
    "\n",
    "start = time.time()\n",
    "object_references = [\n",
    "    retrieve_task.remote(item, db=db_object_ref) for item in [0, 2, 4, 6]\n",
    "]\n",
    "followup_references = [\n",
    "    followup_task.remote(ref) for ref in object_references\n",
    "]\n",
    "data = ray.get(followup_references)\n",
    "print_runtime(data, start)"
   ]
  },
  {
   "cell_type": "code",
   "execution_count": null,
   "id": "6e696742",
   "metadata": {},
   "outputs": [
    {
     "name": "stdout",
     "output_type": "stream",
     "text": [
      "8\n"
     ]
    },
    {
     "name": "stderr",
     "output_type": "stream",
     "text": [
      "[2025-09-02 19:59:49,980 E 160239 161195] core_worker.cc:925: :info_message: Attempting to recover 1 lost objects by resubmitting their tasks or setting a new primary location from existing copies. To disable object reconstruction, set @ray.remote(max_retries=0).\n"
     ]
    },
    {
     "ename": "",
     "evalue": "",
     "output_type": "error",
     "traceback": [
      "\u001b[1;31mThe Kernel crashed while executing code in the current cell or a previous cell. \n",
      "\u001b[1;31mPlease review the code in the cell(s) to identify a possible cause of the failure. \n",
      "\u001b[1;31mClick <a href='https://aka.ms/vscodeJupyterKernelCrash'>here</a> for more info. \n",
      "\u001b[1;31mView Jupyter <a href='command:jupyter.viewOutput'>log</a> for further details."
     ]
    }
   ],
   "source": [
    "'''\n",
    "The DataTracker class becomes an actor when you give it the ray.remote decorator. \n",
    "This actor is capable of tracking state, such as a count, \n",
    "and its methods are Ray actor tasks that you can invoke in the same way as functions using .remote(). \n",
    "Modify the retrieve_task to incorporate this actor.\n",
    "'''\n",
    "@ray.remote\n",
    "class DataTracker:\n",
    "    def __init__(self):\n",
    "        self._count = 0\n",
    "    def increment(self):\n",
    "        self._count += 1\n",
    "    def get_count(self):\n",
    "        return self._count\n",
    "\n",
    "@ray.remote \n",
    "def retrieve_task(item, db, tracker):\n",
    "    time.sleep(item / 10.)\n",
    "    result = retrieve(item)\n",
    "    tracker.increment.remote()\n",
    "    return result\n",
    "\n",
    "tracker = DataTracker.remote()\n",
    "start = time.time()\n",
    "object_references = [\n",
    "    retrieve_task.remote(item, db_object_ref, tracker) for item in range(8)\n",
    "] \n",
    "data = ray.get(object_references)\n",
    "print(ray.get(tracker.get_count.remote()))"
   ]
  },
  {
   "cell_type": "markdown",
   "id": "d08f6fb8",
   "metadata": {},
   "source": [
    "## Map Reduce"
   ]
  },
  {
   "cell_type": "code",
   "execution_count": null,
   "id": "d23b014e",
   "metadata": {},
   "outputs": [],
   "source": []
  },
  {
   "cell_type": "markdown",
   "id": "dfdb1ee7",
   "metadata": {},
   "source": [
    "## Verl APIs"
   ]
  },
  {
   "cell_type": "code",
   "execution_count": null,
   "id": "edb632df",
   "metadata": {},
   "outputs": [],
   "source": []
  },
  {
   "cell_type": "markdown",
   "id": "e520a3e1",
   "metadata": {},
   "source": [
    "## Tutorials"
   ]
  },
  {
   "cell_type": "code",
   "execution_count": 2,
   "id": "7de8e82a",
   "metadata": {},
   "outputs": [
    {
     "data": {
      "text/plain": [
       "'gLuIpXbqR7'"
      ]
     },
     "execution_count": 2,
     "metadata": {},
     "output_type": "execute_result"
    }
   ],
   "source": [
    "import string \n",
    "import random \n",
    "\n",
    "characters = string.ascii_letters + string.digits\n",
    "\"\".join([random.choice(characters) for _ in range(10)])"
   ]
  },
  {
   "cell_type": "code",
   "execution_count": null,
   "id": "2574c8e8",
   "metadata": {},
   "outputs": [],
   "source": [
    "import torch\n",
    "import torch.nn as nn\n",
    "import torch.optim as optim\n",
    "import torch.distributed as dist\n",
    "from torch.distributed.fsdp import FullyShardedDataParallel as FSDP\n",
    "from torch.distributed.fsdp.fully_sharded_data_parallel import (\n",
    "    CPUOffload,\n",
    "    BackwardPrefetch,\n",
    ")\n",
    "from torch.distributed.fsdp.wrap import (\n",
    "    size_based_auto_wrap_policy,\n",
    "    enable_wrap,\n",
    "    wrap,\n",
    ")\n",
    "from torch.utils.data import DataLoader, DistributedSampler\n",
    "import os\n",
    "\n",
    "# Simple transformer-like model for demonstration\n",
    "class TransformerBlock(nn.Module):\n",
    "    def __init__(self, d_model, n_heads, d_ff):\n",
    "        super().__init__()\n",
    "        self.attention = nn.MultiheadAttention(d_model, n_heads, batch_first=True)\n",
    "        self.norm1 = nn.LayerNorm(d_model)\n",
    "        self.norm2 = nn.LayerNorm(d_model)\n",
    "        self.feed_forward = nn.Sequential(\n",
    "            nn.Linear(d_model, d_ff),\n",
    "            nn.ReLU(),\n",
    "            nn.Linear(d_ff, d_model)\n",
    "        )\n",
    "        \n",
    "    def forward(self, x):\n",
    "        # Self-attention with residual connection\n",
    "        attn_out, _ = self.attention(x, x, x)\n",
    "        x = self.norm1(x + attn_out)\n",
    "        \n",
    "        # Feed-forward with residual connection\n",
    "        ff_out = self.feed_forward(x)\n",
    "        x = self.norm2(x + ff_out)\n",
    "        \n",
    "        return x\n",
    "\n",
    "class LargeTransformer(nn.Module):\n",
    "    def __init__(self, vocab_size, d_model, n_heads, d_ff, n_layers, seq_len):\n",
    "        super().__init__()\n",
    "        self.embedding = nn.Embedding(vocab_size, d_model)\n",
    "        self.pos_encoding = nn.Parameter(torch.randn(1, seq_len, d_model))\n",
    "        \n",
    "        self.layers = nn.ModuleList([\n",
    "            TransformerBlock(d_model, n_heads, d_ff) \n",
    "            for _ in range(n_layers)\n",
    "        ])\n",
    "        \n",
    "        self.ln_f = nn.LayerNorm(d_model)\n",
    "        self.head = nn.Linear(d_model, vocab_size)\n",
    "        \n",
    "    def forward(self, x):\n",
    "        # Token + positional embeddings\n",
    "        x = self.embedding(x) + self.pos_encoding[:, :x.size(1), :]\n",
    "        \n",
    "        # Pass through transformer blocks\n",
    "        for layer in self.layers:\n",
    "            x = layer(x)\n",
    "            \n",
    "        # Final layer norm and output projection\n",
    "        x = self.ln_f(x)\n",
    "        return self.head(x)\n",
    "\n",
    "# Dummy dataset for demonstration\n",
    "class DummyDataset(torch.utils.data.Dataset):\n",
    "    def __init__(self, vocab_size, seq_len, num_samples):\n",
    "        self.vocab_size = vocab_size\n",
    "        self.seq_len = seq_len\n",
    "        self.num_samples = num_samples\n",
    "        \n",
    "    def __len__(self):\n",
    "        return self.num_samples\n",
    "    \n",
    "    def __getitem__(self, idx):\n",
    "        # Generate random sequences\n",
    "        input_ids = torch.randint(0, self.vocab_size, (self.seq_len,))\n",
    "        # For language modeling, labels are input_ids shifted by 1\n",
    "        labels = torch.roll(input_ids, -1)\n",
    "        return input_ids, labels\n",
    "\n",
    "def setup_distributed():\n",
    "    \"\"\"Initialize distributed training\"\"\"\n",
    "    # Initialize the process group\n",
    "    dist.init_process_group(backend=\"nccl\")\n",
    "    \n",
    "    # Set the device for this process\n",
    "    local_rank = int(os.environ[\"LOCAL_RANK\"])\n",
    "    torch.cuda.set_device(local_rank)\n",
    "    \n",
    "    return local_rank\n",
    "\n",
    "def cleanup_distributed():\n",
    "    \"\"\"Clean up distributed training\"\"\"\n",
    "    dist.destroy_process_group()\n",
    "\n",
    "def create_fsdp_model(model, auto_wrap_policy=None):\n",
    "    \"\"\"Wrap model with FSDP\"\"\"\n",
    "    \n",
    "    # FSDP configuration\n",
    "    fsdp_config = {\n",
    "        # Offload parameters to CPU when not in use (saves GPU memory)\n",
    "        \"cpu_offload\": CPUOffload(offload_params=True),\n",
    "        \n",
    "        # Overlap backward pass computation with communication\n",
    "        \"backward_prefetch\": BackwardPrefetch.BACKWARD_PRE,\n",
    "        \n",
    "        # Mixed precision configuration\n",
    "        \"mixed_precision\": None,  # Can add MixedPrecision policy here\n",
    "        \n",
    "        # Auto-wrap policy for automatic sharding of submodules\n",
    "        \"auto_wrap_policy\": auto_wrap_policy,\n",
    "        \n",
    "        # Ignore modules that shouldn't be sharded\n",
    "        \"ignored_modules\": [],\n",
    "    }\n",
    "    \n",
    "    # Wrap the model with FSDP\n",
    "    model = FSDP(model, **fsdp_config)\n",
    "    \n",
    "    return model\n",
    "\n",
    "def train_step(model, optimizer, data_loader, device, epoch):\n",
    "    \"\"\"Single training step\"\"\"\n",
    "    model.train()\n",
    "    total_loss = 0.0\n",
    "    num_batches = 0\n",
    "    \n",
    "    for batch_idx, (input_ids, labels) in enumerate(data_loader):\n",
    "        input_ids = input_ids.to(device)\n",
    "        labels = labels.to(device)\n",
    "        \n",
    "        # Zero gradients\n",
    "        optimizer.zero_grad()\n",
    "        \n",
    "        # Forward pass\n",
    "        logits = model(input_ids)\n",
    "        \n",
    "        # Compute loss (cross-entropy for language modeling)\n",
    "        loss = nn.CrossEntropyLoss()(\n",
    "            logits.view(-1, logits.size(-1)), \n",
    "            labels.view(-1)\n",
    "        )\n",
    "        \n",
    "        # Backward pass\n",
    "        loss.backward()\n",
    "        \n",
    "        # Optimizer step\n",
    "        optimizer.step()\n",
    "        \n",
    "        total_loss += loss.item()\n",
    "        num_batches += 1\n",
    "        \n",
    "        # Print progress\n",
    "        if batch_idx % 10 == 0:\n",
    "            print(f\"Epoch {epoch}, Batch {batch_idx}, Loss: {loss.item():.4f}\")\n",
    "    \n",
    "    return total_loss / num_batches\n",
    "\n",
    "def main():\n",
    "    # Setup distributed training\n",
    "    local_rank = setup_distributed()\n",
    "    device = torch.device(f\"cuda:{local_rank}\")\n",
    "    \n",
    "    # Model hyperparameters\n",
    "    vocab_size = 50000\n",
    "    d_model = 1024\n",
    "    n_heads = 16\n",
    "    d_ff = 4096\n",
    "    n_layers = 24  # Large model with 24 layers\n",
    "    seq_len = 512\n",
    "    batch_size = 4\n",
    "    learning_rate = 1e-4\n",
    "    num_epochs = 5\n",
    "    \n",
    "    print(f\"Creating model on rank {dist.get_rank()}\")\n",
    "    \n",
    "    # Create model\n",
    "    model = LargeTransformer(vocab_size, d_model, n_heads, d_ff, n_layers, seq_len)\n",
    "    \n",
    "    # Define auto-wrap policy (wrap modules with >100M parameters)\n",
    "    auto_wrap_policy = size_based_auto_wrap_policy(min_num_params=100_000_000)\n",
    "    \n",
    "    # Alternative: manually wrap specific modules\n",
    "    # with enable_wrap(wrapper_cls=FSDP):\n",
    "    #     for layer in model.layers:\n",
    "    #         layer = wrap(layer)\n",
    "    \n",
    "    # Wrap model with FSDP\n",
    "    model = create_fsdp_model(model, auto_wrap_policy)\n",
    "    model = model.to(device)\n",
    "    \n",
    "    # Create optimizer\n",
    "    optimizer = optim.AdamW(model.parameters(), lr=learning_rate)\n",
    "    \n",
    "    # Create dataset and dataloader\n",
    "    dataset = DummyDataset(vocab_size, seq_len, num_samples=1000)\n",
    "    sampler = DistributedSampler(dataset)\n",
    "    data_loader = DataLoader(\n",
    "        dataset, \n",
    "        batch_size=batch_size, \n",
    "        sampler=sampler,\n",
    "        num_workers=2\n",
    "    )\n",
    "    \n",
    "    print(f\"Starting training on rank {dist.get_rank()}\")\n",
    "    \n",
    "    # Training loop\n",
    "    for epoch in range(num_epochs):\n",
    "        sampler.set_epoch(epoch)  # Important for proper shuffling\n",
    "        \n",
    "        avg_loss = train_step(model, optimizer, data_loader, device, epoch)\n",
    "        \n",
    "        # Print epoch results (only on rank 0)\n",
    "        if dist.get_rank() == 0:\n",
    "            print(f\"Epoch {epoch + 1}/{num_epochs}, Average Loss: {avg_loss:.4f}\")\n",
    "    \n",
    "    # Save model (only on rank 0)\n",
    "    if dist.get_rank() == 0:\n",
    "        # For FSDP, use state_dict_type context manager for proper saving\n",
    "        from torch.distributed.fsdp import StateDictType, FullStateDictConfig\n",
    "        \n",
    "        save_policy = FullStateDictConfig(offload_to_cpu=True, rank0_only=True)\n",
    "        with FSDP.state_dict_type(model, StateDictType.FULL_STATE_DICT, save_policy):\n",
    "            state_dict = model.state_dict()\n",
    "            torch.save({\n",
    "                'model_state_dict': state_dict,\n",
    "                'optimizer_state_dict': optimizer.state_dict(),\n",
    "                'epoch': num_epochs,\n",
    "            }, 'fsdp_checkpoint.pt')\n",
    "        \n",
    "        print(\"Model saved successfully!\")\n",
    "    \n",
    "    # Clean up\n",
    "    cleanup_distributed()\n",
    "\n",
    "# Script for launching distributed training\n",
    "def launch_script():\n",
    "    \"\"\"\n",
    "    Launch this script with torchrun:\n",
    "    \n",
    "    torchrun --nproc_per_node=4 --nnodes=1 fsdp_example.py\n",
    "    \n",
    "    Or with multiple nodes:\n",
    "    torchrun --nproc_per_node=4 --nnodes=2 --node_rank=0 --master_addr=\"192.168.1.1\" --master_port=12355 fsdp_example.py\n",
    "    \"\"\"\n",
    "    pass\n",
    "\n",
    "if __name__ == \"__main__\":\n",
    "    main()\n",
    "\n",
    "# Additional utility functions for FSDP\n",
    "\n",
    "def get_model_size(model):\n",
    "    \"\"\"Calculate model size in parameters\"\"\"\n",
    "    total_params = sum(p.numel() for p in model.parameters())\n",
    "    trainable_params = sum(p.numel() for p in model.parameters() if p.requires_grad)\n",
    "    \n",
    "    print(f\"Total parameters: {total_params:,}\")\n",
    "    print(f\"Trainable parameters: {trainable_params:,}\")\n",
    "    print(f\"Model size: {total_params * 4 / (1024**3):.2f} GB (float32)\")\n",
    "    \n",
    "    return total_params\n",
    "\n",
    "def print_fsdp_config(model):\n",
    "    \"\"\"Print FSDP configuration information\"\"\"\n",
    "    if hasattr(model, '_fsdp_wrapped_module'):\n",
    "        print(\"FSDP Configuration:\")\n",
    "        print(f\"CPU Offload: {model.cpu_offload}\")\n",
    "        print(f\"Backward Prefetch: {model.backward_prefetch}\")\n",
    "        print(f\"Mixed Precision: {model.mixed_precision}\")\n",
    "        \n",
    "def memory_summary():\n",
    "    \"\"\"Print GPU memory usage\"\"\"\n",
    "    if torch.cuda.is_available():\n",
    "        print(f\"GPU Memory Allocated: {torch.cuda.memory_allocated() / (1024**3):.2f} GB\")\n",
    "        print(f\"GPU Memory Cached: {torch.cuda.memory_reserved() / (1024**3):.2f} GB\")\n",
    "        print(f\"GPU Memory Free: {(torch.cuda.get_device_properties(0).total_memory - torch.cuda.memory_allocated()) / (1024**3):.2f} GB\")"
   ]
  },
  {
   "cell_type": "markdown",
   "id": "916be046",
   "metadata": {},
   "source": [
    "# Reward Function\n",
    "\n",
    "**1. Creation of dummy response for the reward function.**\n",
    "\n",
    "**2. Run this after preparing the dataset.**"
   ]
  },
  {
   "cell_type": "code",
   "execution_count": 28,
   "id": "969ca1a6",
   "metadata": {},
   "outputs": [],
   "source": [
    "import pandas as pd \n",
    "import numpy as np \n",
    "import random\n",
    "\n",
    "input_path = '../data/grid_test.parquet'\n",
    "output_path = 'grid_test_resp'"
   ]
  },
  {
   "cell_type": "code",
   "execution_count": 29,
   "id": "62358a44",
   "metadata": {},
   "outputs": [
    {
     "data": {
      "text/html": [
       "<div>\n",
       "<style scoped>\n",
       "    .dataframe tbody tr th:only-of-type {\n",
       "        vertical-align: middle;\n",
       "    }\n",
       "\n",
       "    .dataframe tbody tr th {\n",
       "        vertical-align: top;\n",
       "    }\n",
       "\n",
       "    .dataframe thead th {\n",
       "        text-align: right;\n",
       "    }\n",
       "</style>\n",
       "<table border=\"1\" class=\"dataframe\">\n",
       "  <thead>\n",
       "    <tr style=\"text-align: right;\">\n",
       "      <th></th>\n",
       "      <th>prompt</th>\n",
       "      <th>reward_model</th>\n",
       "    </tr>\n",
       "  </thead>\n",
       "  <tbody>\n",
       "    <tr>\n",
       "      <th>0</th>\n",
       "      <td>[{'content': 'Several of Mrs.  Albertson's U. ...</td>\n",
       "      <td>{'ground_truth': '5 minutes | Georgia | Jackso...</td>\n",
       "    </tr>\n",
       "    <tr>\n",
       "      <th>1</th>\n",
       "      <td>[{'content': 'The Makombo Reserve rescues and ...</td>\n",
       "      <td>{'ground_truth': '10 feet | Morutana | Botswan...</td>\n",
       "    </tr>\n",
       "    <tr>\n",
       "      <th>2</th>\n",
       "      <td>[{'content': 'The Abbeville K-9 Academy trains...</td>\n",
       "      <td>{'ground_truth': 'March | Hercules | Ramsey | ...</td>\n",
       "    </tr>\n",
       "    <tr>\n",
       "      <th>3</th>\n",
       "      <td>[{'content': 'Watson County Hospital released ...</td>\n",
       "      <td>{'ground_truth': '12:01am | Maxine | Vaughan\n",
       "1...</td>\n",
       "    </tr>\n",
       "    <tr>\n",
       "      <th>4</th>\n",
       "      <td>[{'content': 'Help Ramon figure out his new se...</td>\n",
       "      <td>{'ground_truth': '1st | 114 | Morton | Biology...</td>\n",
       "    </tr>\n",
       "  </tbody>\n",
       "</table>\n",
       "</div>"
      ],
      "text/plain": [
       "                                              prompt  \\\n",
       "0  [{'content': 'Several of Mrs.  Albertson's U. ...   \n",
       "1  [{'content': 'The Makombo Reserve rescues and ...   \n",
       "2  [{'content': 'The Abbeville K-9 Academy trains...   \n",
       "3  [{'content': 'Watson County Hospital released ...   \n",
       "4  [{'content': 'Help Ramon figure out his new se...   \n",
       "\n",
       "                                        reward_model  \n",
       "0  {'ground_truth': '5 minutes | Georgia | Jackso...  \n",
       "1  {'ground_truth': '10 feet | Morutana | Botswan...  \n",
       "2  {'ground_truth': 'March | Hercules | Ramsey | ...  \n",
       "3  {'ground_truth': '12:01am | Maxine | Vaughan\n",
       "1...  \n",
       "4  {'ground_truth': '1st | 114 | Morton | Biology...  "
      ]
     },
     "execution_count": 29,
     "metadata": {},
     "output_type": "execute_result"
    }
   ],
   "source": [
    "df = pd.read_parquet(input_path)\n",
    "df.head()"
   ]
  },
  {
   "cell_type": "code",
   "execution_count": 30,
   "id": "81cc8817",
   "metadata": {},
   "outputs": [],
   "source": [
    "def beautify(solution):\n",
    "    half_solution = []\n",
    "    for row in solution:\n",
    "        half_solution.append(' | '.join(row))\n",
    "    return '\\n'.join(half_solution)"
   ]
  },
  {
   "cell_type": "code",
   "execution_count": 31,
   "id": "d8225d7f",
   "metadata": {},
   "outputs": [
    {
     "data": {
      "text/plain": [
       "['5 minutes | georgia | jackson | d\\n8 minutes | chris | lincoln | c-\\n11 minutes | peggy | adams | b-\\n14 minutes | yvonne | nixon | b+',\n",
       " '5 minutes | chris | jackson | d\\n8 minutes | georgia | lincoln | c-\\n11 minutes | peggy | adams | b-\\n14 minutes | yvonne | nixon | b+',\n",
       " '5 minutes | georgia | jackson | d\\n8 minutes | chris | lincoln | c-\\n11 minutes | peggy | adams | b-\\n14 minutes | yvonne | nixon | b+',\n",
       " '14 minutes | georgia | jackson | d\\n8 minutes | chris | lincoln | c-\\n11 minutes | peggy | adams | b-\\n5 minutes | yvonne | nixon | b+',\n",
       " '5 minutes | georgia | lincoln | d\\n8 minutes | chris | jackson | c-\\n11 minutes | peggy | adams | b-\\n14 minutes | yvonne | nixon | b+']"
      ]
     },
     "execution_count": 31,
     "metadata": {},
     "output_type": "execute_result"
    }
   ],
   "source": [
    "from copy import deepcopy \n",
    "NO_OF_RESPONSES = 5 \n",
    "data_sources = 'prompt'\n",
    "reward_model_key = 'reward_model'\n",
    "responses = 'responses'\n",
    "\n",
    "mega_final_solution = []\n",
    "for idx, row in df.iterrows():\n",
    "    parse_solution = []\n",
    "    solution = row[reward_model_key]['ground_truth']\n",
    "    solution_rows = solution.split('\\n')\n",
    "    for solution_row in solution_rows:\n",
    "        element = solution_row.split('|')\n",
    "        parse_solution.append([x.strip().lower() for x in element])\n",
    "    rsz, csz = len(parse_solution), len(parse_solution[0])\n",
    "    responses = []\n",
    "    for index in range(NO_OF_RESPONSES):\n",
    "        responses.append(deepcopy(parse_solution))\n",
    "        idx, jdx = random.randint(0, rsz-1), random.randint(0, rsz-1)\n",
    "        feature_idx = random.randint(0, csz-1)\n",
    "        responses[-1][idx][feature_idx], responses[-1][jdx][feature_idx] = responses[-1][jdx][feature_idx], \\\n",
    "            responses[-1][idx][feature_idx]\n",
    "    # print(f'ORIGINAL:')\n",
    "    # print(beautify(parse_solution))\n",
    "    # print()\n",
    "    final_responses = []\n",
    "    for index, response in enumerate(responses):\n",
    "        # print(f'SOLUTION {index}')\n",
    "        # print(beautify(response))\n",
    "        # print()\n",
    "        final_responses.append(beautify(response))\n",
    "    # print(f'-x'*50)\n",
    "    mega_final_solution.append(final_responses)\n",
    "mega_final_solution[0]"
   ]
  },
  {
   "cell_type": "code",
   "execution_count": 32,
   "id": "4baea9d2",
   "metadata": {},
   "outputs": [
    {
     "data": {
      "text/plain": [
       "prompt          [{'content': 'Several of Mrs.  Albertson's U. ...\n",
       "reward_model    {'ground_truth': '5 minutes | Georgia | Jackso...\n",
       "responses       [5 minutes | georgia | jackson | d\\n8 minutes ...\n",
       "Name: 0, dtype: object"
      ]
     },
     "execution_count": 32,
     "metadata": {},
     "output_type": "execute_result"
    }
   ],
   "source": [
    "df['responses'] = mega_final_solution\n",
    "df.iloc[0]"
   ]
  },
  {
   "cell_type": "code",
   "execution_count": 33,
   "id": "02b68325",
   "metadata": {},
   "outputs": [],
   "source": [
    "df.to_parquet(output_path + '.parquet')\n",
    "df.to_csv(output_path + '.csv')"
   ]
  },
  {
   "cell_type": "code",
   "execution_count": 34,
   "id": "04ff2705",
   "metadata": {},
   "outputs": [
    {
     "name": "stdout",
     "output_type": "stream",
     "text": [
      "/Users/tmittra/verl_x/tm_tutorials\n"
     ]
    },
    {
     "name": "stderr",
     "output_type": "stream",
     "text": [
      "huggingface/tokenizers: The current process just got forked, after parallelism has already been used. Disabling parallelism to avoid deadlocks...\n",
      "To disable this warning, you can either:\n",
      "\t- Avoid using `tokenizers` before the fork if possible\n",
      "\t- Explicitly set the environment variable TOKENIZERS_PARALLELISM=(true | false)\n"
     ]
    }
   ],
   "source": [
    "!pwd"
   ]
  },
  {
   "cell_type": "code",
   "execution_count": null,
   "id": "b1a6412b",
   "metadata": {},
   "outputs": [
    {
     "name": "stdout",
     "output_type": "stream",
     "text": [
      "--\n"
     ]
    }
   ],
   "source": [
    "'''\n",
    "1. from parquet generate responses using LLM.\n",
    "2. Use GRIDRewardManger to get the reward. \n",
    "    - Implement compute_score(prompt, response_list, ground_truth)\n",
    "'''\n",
    "print('--')"
   ]
  },
  {
   "cell_type": "markdown",
   "id": "cfe88b21",
   "metadata": {},
   "source": [
    "### Implementing compute_score"
   ]
  },
  {
   "cell_type": "code",
   "execution_count": 58,
   "id": "971eaaec",
   "metadata": {},
   "outputs": [
    {
     "data": {
      "text/html": [
       "<div>\n",
       "<style scoped>\n",
       "    .dataframe tbody tr th:only-of-type {\n",
       "        vertical-align: middle;\n",
       "    }\n",
       "\n",
       "    .dataframe tbody tr th {\n",
       "        vertical-align: top;\n",
       "    }\n",
       "\n",
       "    .dataframe thead th {\n",
       "        text-align: right;\n",
       "    }\n",
       "</style>\n",
       "<table border=\"1\" class=\"dataframe\">\n",
       "  <thead>\n",
       "    <tr style=\"text-align: right;\">\n",
       "      <th></th>\n",
       "      <th>data_source</th>\n",
       "      <th>prompt</th>\n",
       "      <th>ability</th>\n",
       "      <th>reward_model</th>\n",
       "      <th>extra_info</th>\n",
       "    </tr>\n",
       "  </thead>\n",
       "  <tbody>\n",
       "    <tr>\n",
       "      <th>7</th>\n",
       "      <td>math_dapo</td>\n",
       "      <td>[{'content': 'Solve the following math problem...</td>\n",
       "      <td>MATH</td>\n",
       "      <td>{'ground_truth': '540', 'style': 'rule-lightev...</td>\n",
       "      <td>{'index': 2, 'raw_problem': 'Find the largest ...</td>\n",
       "    </tr>\n",
       "    <tr>\n",
       "      <th>9</th>\n",
       "      <td>math_dapo</td>\n",
       "      <td>[{'content': 'Solve the following math problem...</td>\n",
       "      <td>MATH</td>\n",
       "      <td>{'ground_truth': '204', 'style': 'rule-lightev...</td>\n",
       "      <td>{'index': 25, 'raw_problem': 'Every morning Ay...</td>\n",
       "    </tr>\n",
       "    <tr>\n",
       "      <th>11</th>\n",
       "      <td>math_dapo</td>\n",
       "      <td>[{'content': 'Solve the following math problem...</td>\n",
       "      <td>MATH</td>\n",
       "      <td>{'ground_truth': '721', 'style': 'rule-lightev...</td>\n",
       "      <td>{'index': 14, 'raw_problem': 'Let $\\mathcal{B}...</td>\n",
       "    </tr>\n",
       "    <tr>\n",
       "      <th>27</th>\n",
       "      <td>math_dapo</td>\n",
       "      <td>[{'content': 'Solve the following math problem...</td>\n",
       "      <td>MATH</td>\n",
       "      <td>{'ground_truth': '236', 'style': 'rule-lightev...</td>\n",
       "      <td>{'index': 26, 'raw_problem': 'A list of positi...</td>\n",
       "    </tr>\n",
       "    <tr>\n",
       "      <th>28</th>\n",
       "      <td>math_dapo</td>\n",
       "      <td>[{'content': 'Solve the following math problem...</td>\n",
       "      <td>MATH</td>\n",
       "      <td>{'ground_truth': '809', 'style': 'rule-lightev...</td>\n",
       "      <td>{'index': 9, 'raw_problem': 'Alice and Bob pla...</td>\n",
       "    </tr>\n",
       "  </tbody>\n",
       "</table>\n",
       "</div>"
      ],
      "text/plain": [
       "   data_source                                             prompt ability  \\\n",
       "7    math_dapo  [{'content': 'Solve the following math problem...    MATH   \n",
       "9    math_dapo  [{'content': 'Solve the following math problem...    MATH   \n",
       "11   math_dapo  [{'content': 'Solve the following math problem...    MATH   \n",
       "27   math_dapo  [{'content': 'Solve the following math problem...    MATH   \n",
       "28   math_dapo  [{'content': 'Solve the following math problem...    MATH   \n",
       "\n",
       "                                         reward_model  \\\n",
       "7   {'ground_truth': '540', 'style': 'rule-lightev...   \n",
       "9   {'ground_truth': '204', 'style': 'rule-lightev...   \n",
       "11  {'ground_truth': '721', 'style': 'rule-lightev...   \n",
       "27  {'ground_truth': '236', 'style': 'rule-lightev...   \n",
       "28  {'ground_truth': '809', 'style': 'rule-lightev...   \n",
       "\n",
       "                                           extra_info  \n",
       "7   {'index': 2, 'raw_problem': 'Find the largest ...  \n",
       "9   {'index': 25, 'raw_problem': 'Every morning Ay...  \n",
       "11  {'index': 14, 'raw_problem': 'Let $\\mathcal{B}...  \n",
       "27  {'index': 26, 'raw_problem': 'A list of positi...  \n",
       "28  {'index': 9, 'raw_problem': 'Alice and Bob pla...  "
      ]
     },
     "execution_count": 58,
     "metadata": {},
     "output_type": "execute_result"
    }
   ],
   "source": [
    "import pandas as pd \n",
    "import os \n",
    "\n",
    "DATA_PATH = os.path.expanduser(\"~\") + \"/verl_x/data/aime-2024.parquet\"\n",
    "df_aime = pd.read_parquet(DATA_PATH)\n",
    "df_aime.to_csv('aime-2024.csv')\n",
    "df_aime.head()"
   ]
  },
  {
   "cell_type": "code",
   "execution_count": null,
   "id": "42374f60",
   "metadata": {},
   "outputs": [
    {
     "name": "stderr",
     "output_type": "stream",
     "text": [
      "Some parameters are on the meta device because they were offloaded to the disk.\n"
     ]
    },
    {
     "name": "stdout",
     "output_type": "stream",
     "text": [
      "Qwen2Config {\n",
      "  \"architectures\": [\n",
      "    \"Qwen2ForCausalLM\"\n",
      "  ],\n",
      "  \"attention_dropout\": 0.0,\n",
      "  \"bos_token_id\": 151643,\n",
      "  \"eos_token_id\": 151645,\n",
      "  \"hidden_act\": \"silu\",\n",
      "  \"hidden_size\": 1536,\n",
      "  \"initializer_range\": 0.02,\n",
      "  \"intermediate_size\": 8960,\n",
      "  \"layer_types\": [\n",
      "    \"full_attention\",\n",
      "    \"full_attention\",\n",
      "    \"full_attention\",\n",
      "    \"full_attention\",\n",
      "    \"full_attention\",\n",
      "    \"full_attention\",\n",
      "    \"full_attention\",\n",
      "    \"full_attention\",\n",
      "    \"full_attention\",\n",
      "    \"full_attention\",\n",
      "    \"full_attention\",\n",
      "    \"full_attention\",\n",
      "    \"full_attention\",\n",
      "    \"full_attention\",\n",
      "    \"full_attention\",\n",
      "    \"full_attention\",\n",
      "    \"full_attention\",\n",
      "    \"full_attention\",\n",
      "    \"full_attention\",\n",
      "    \"full_attention\",\n",
      "    \"full_attention\",\n",
      "    \"full_attention\",\n",
      "    \"full_attention\",\n",
      "    \"full_attention\",\n",
      "    \"full_attention\",\n",
      "    \"full_attention\",\n",
      "    \"full_attention\",\n",
      "    \"full_attention\"\n",
      "  ],\n",
      "  \"max_position_embeddings\": 32768,\n",
      "  \"max_window_layers\": 28,\n",
      "  \"model_type\": \"qwen2\",\n",
      "  \"num_attention_heads\": 12,\n",
      "  \"num_hidden_layers\": 28,\n",
      "  \"num_key_value_heads\": 2,\n",
      "  \"rms_norm_eps\": 1e-06,\n",
      "  \"rope_scaling\": null,\n",
      "  \"rope_theta\": 1000000.0,\n",
      "  \"sliding_window\": null,\n",
      "  \"tie_word_embeddings\": true,\n",
      "  \"torch_dtype\": \"float32\",\n",
      "  \"transformers_version\": \"4.55.2\",\n",
      "  \"use_cache\": true,\n",
      "  \"use_sliding_window\": false,\n",
      "  \"vocab_size\": 151936\n",
      "}\n",
      "\n"
     ]
    }
   ],
   "source": [
    "import os \n",
    "from transformers import (\n",
    "    AutoModelForCausalLM,\n",
    "    AutoTokenizer\n",
    ")\n",
    "\n",
    "MODEL_PATH = os.path.expanduser(\"~\") + \"/models/Qwen2-1.5B-Instruct\"\n",
    "'''\n",
    "Feature for automatically initiating the model skeleton and loading and dispatching the \n",
    "model weights across all available devices, starting with the fastest device (GPU)\n",
    "'''\n",
    "\n",
    "'''\n",
    "Offloading is a technique used to run models too large to fit entirely in GPU or RAM, \n",
    "by storing parts of the model (or all of it) on:\n",
    "\n",
    "1. Disk (slowest)\n",
    "2. CPU memory (medium)\n",
    "3. GPU memory (fastest)\n",
    "\n",
    "Hugging Face uses accelerate's offloading features to help with this.\n",
    "'''\n",
    "model = AutoModelForCausalLM.from_pretrained(f\"{MODEL_PATH}\", \n",
    "                                            device_map = \"auto\")\n",
    "tokenizer = AutoTokenizer.from_pretrained(f'{MODEL_PATH}', \n",
    "                                        truncation = True, \\\n",
    "                                        padding = True, \\\n",
    "                                        padding_side=\"left\")\n",
    "print(model.config)"
   ]
  },
  {
   "cell_type": "code",
   "execution_count": 2,
   "id": "a419f4a3",
   "metadata": {},
   "outputs": [
    {
     "data": {
      "text/html": [
       "<div>\n",
       "<style scoped>\n",
       "    .dataframe tbody tr th:only-of-type {\n",
       "        vertical-align: middle;\n",
       "    }\n",
       "\n",
       "    .dataframe tbody tr th {\n",
       "        vertical-align: top;\n",
       "    }\n",
       "\n",
       "    .dataframe thead th {\n",
       "        text-align: right;\n",
       "    }\n",
       "</style>\n",
       "<table border=\"1\" class=\"dataframe\">\n",
       "  <thead>\n",
       "    <tr style=\"text-align: right;\">\n",
       "      <th></th>\n",
       "      <th>prompt</th>\n",
       "      <th>reward_model</th>\n",
       "    </tr>\n",
       "  </thead>\n",
       "  <tbody>\n",
       "    <tr>\n",
       "      <th>0</th>\n",
       "      <td>[{'content': 'Several of Mrs.  Albertson's U. ...</td>\n",
       "      <td>{'ground_truth': '5 minutes | Georgia | Jackso...</td>\n",
       "    </tr>\n",
       "    <tr>\n",
       "      <th>1</th>\n",
       "      <td>[{'content': 'The Makombo Reserve rescues and ...</td>\n",
       "      <td>{'ground_truth': '10 feet | Morutana | Botswan...</td>\n",
       "    </tr>\n",
       "    <tr>\n",
       "      <th>2</th>\n",
       "      <td>[{'content': 'The Abbeville K-9 Academy trains...</td>\n",
       "      <td>{'ground_truth': 'March | Hercules | Ramsey | ...</td>\n",
       "    </tr>\n",
       "    <tr>\n",
       "      <th>3</th>\n",
       "      <td>[{'content': 'Watson County Hospital released ...</td>\n",
       "      <td>{'ground_truth': '12:01am | Maxine | Vaughan\n",
       "1...</td>\n",
       "    </tr>\n",
       "    <tr>\n",
       "      <th>4</th>\n",
       "      <td>[{'content': 'Help Ramon figure out his new se...</td>\n",
       "      <td>{'ground_truth': '1st | 114 | Morton | Biology...</td>\n",
       "    </tr>\n",
       "  </tbody>\n",
       "</table>\n",
       "</div>"
      ],
      "text/plain": [
       "                                              prompt  \\\n",
       "0  [{'content': 'Several of Mrs.  Albertson's U. ...   \n",
       "1  [{'content': 'The Makombo Reserve rescues and ...   \n",
       "2  [{'content': 'The Abbeville K-9 Academy trains...   \n",
       "3  [{'content': 'Watson County Hospital released ...   \n",
       "4  [{'content': 'Help Ramon figure out his new se...   \n",
       "\n",
       "                                        reward_model  \n",
       "0  {'ground_truth': '5 minutes | Georgia | Jackso...  \n",
       "1  {'ground_truth': '10 feet | Morutana | Botswan...  \n",
       "2  {'ground_truth': 'March | Hercules | Ramsey | ...  \n",
       "3  {'ground_truth': '12:01am | Maxine | Vaughan\n",
       "1...  \n",
       "4  {'ground_truth': '1st | 114 | Morton | Biology...  "
      ]
     },
     "execution_count": 2,
     "metadata": {},
     "output_type": "execute_result"
    }
   ],
   "source": [
    "import pandas as pd \n",
    "DATA_PATH = os.path.expanduser(\"~\") + \"/verl_x/data/grid_test.parquet\"\n",
    "\n",
    "df = pd.read_parquet(DATA_PATH)\n",
    "df.head()"
   ]
  },
  {
   "cell_type": "code",
   "execution_count": 10,
   "id": "c1d8eb22",
   "metadata": {},
   "outputs": [
    {
     "name": "stdout",
     "output_type": "stream",
     "text": [
      "DataLen: 54\n"
     ]
    },
    {
     "name": "stderr",
     "output_type": "stream",
     "text": [
      "/Users/tmittra/ai/lib/python3.12/site-packages/transformers/generation/utils.py:2501: UserWarning: You are calling .generate() with the `input_ids` being on a device type different than your model's device. `input_ids` is on cpu, whereas the model is on mps. You may experience unexpected behaviors or slower generation. Please make sure that you have put `input_ids` to the correct device by calling for example input_ids = input_ids.to('mps') before running `.generate()`.\n",
      "  warnings.warn(\n"
     ]
    },
    {
     "name": "stdout",
     "output_type": "stream",
     "text": [
      "System: You are an expert who solves grid puzzles and you should think before answering a question.\n",
      "Finally print the answer in this format.\n",
      "Stop immediately after generating the solution.\n",
      "\n",
      "Human: Several of Mrs.  Albertson's U. S.  History students each gave an oral presentation today on a different American President. Using only the clues below, match the lengths to the options from names, presidents, and grades. Remember, as with all grid-based logic puzzles, no option in any category will ever be used more than once.\n",
      "\n",
      "lengths : 5 minutes, 8 minutes, 11 minutes, 14 minutes.\n",
      "names : Chris, Georgia, Peggy, Yvonne.\n",
      "presidents : Adams, Jackson, Lincoln, Nixon.\n",
      "grades : B+, B-, C-, D.\n",
      "\n",
      "Clues:\n",
      "1. Yvonne got the B+.\n",
      "2. Of Peggy and the presenter who spoke for 8 minutes, one got the C- and the other talked about President Adams.\n",
      "3. Of the presenter who got the B+ and the student who gave the presentation on President Lincoln, one was Chris and the other spoke for 14 minutes.\n",
      "4. The student who got the B- spoke for a somewhat longer time than the presenter who gave the presentation on President Jackson.\n",
      "5. The student who spoke for 8 minutes was either Chris or Yvonne.\n",
      "\n",
      "While answering use the following format:\n",
      "Step-by-step solution:\n",
      "Your steps showing how you are solving the puzzle\n",
      "Final Answer:\n",
      "Fill the following table to show your final answer.\n",
      "5 minutes | correct option from names | correct option from presidents | correct option from grades\n",
      "8 minutes | correct option from names | correct option from presidents | correct option from grades\n",
      "11 minutes | correct option from names | correct option from presidents | correct option from grades\n",
      "14 minutes | correct option from names | correct option from presidents | correct option from grades\n",
      "The length of the presentation is 5 minutes, so the correct option from names must be Chris.\n",
      "\n"
     ]
    }
   ],
   "source": [
    "from langchain_core.prompts import ChatPromptTemplate\n",
    "print(f'DataLen: {df.shape[0]}')\n",
    "prompt = ChatPromptTemplate.from_messages(\n",
    "    [\n",
    "        (\"system\", \"\"\"You are an expert who solves grid puzzles and you should think before answering a question.\n",
    "Finally print the answer in this format.\n",
    "Stop immediately after generating the solution.\n",
    "\"\"\"),\n",
    "        (\"human\", \"{query}\")\n",
    "    ]\n",
    ")\n",
    "\n",
    "'''\n",
    "But ChatPromptTemplate is not a runnable by default. \n",
    "You should call .format_messages() or .format() to render it, not .invoke()\n",
    "'''\n",
    "for idx, row in df.iterrows():\n",
    "    sentence = prompt.format(query=row['prompt'][0]['content'])\n",
    "    model_inputs = tokenizer(sentence, return_tensors=\"pt\")\n",
    "    response = model.generate(**model_inputs)\n",
    "    human_response = tokenizer.batch_decode(response, skip_special_tokens=True)[0]\n",
    "    print(human_response)\n",
    "    break"
   ]
  },
  {
   "cell_type": "markdown",
   "id": "1b9d7af1",
   "metadata": {},
   "source": [
    "## compute_fn"
   ]
  },
  {
   "cell_type": "code",
   "execution_count": 33,
   "id": "37f9be6d",
   "metadata": {},
   "outputs": [
    {
     "name": "stdout",
     "output_type": "stream",
     "text": [
      "[{'content': \"Several of Mrs. Albertson's U. S.  History students each gave an oral presentation today on a different American President. Using only the clues below, match the lengths to the options from names, presidents, and grades. Remember, as with all grid-based logic puzzles, no option in any category will ever be used more than once.\n",
      "\n",
      "lengths : 5 minutes, 8 minutes, 11 minutes, 14 minutes.\n",
      "names : Chris, Georgia, Peggy, Yvonne.\n",
      "presidents : Adams, Jackson, Lincoln, Nixon.\n",
      "grades : B+, B-, C-, D.\n",
      "\n",
      "Clues:\n",
      "1. Yvonne got the B+.\n",
      "2. Of Peggy and the presenter who spoke for 8 minutes, one got the C- and the other talked about President Adams.\n",
      "3. Of the presenter who got the B+ and the student who gave the presentation on President Lincoln, one was Chris and the other spoke for 14 minutes.\n",
      "4. The student who got the B- spoke for a somewhat longer time than the presenter who gave the presentation on President Jackson.\n",
      "5. The student who spoke for 8 minutes was either Chris or Yvonne.\n",
      "\n",
      "While answering use the following format:\n",
      "Step-by-step solution:\n",
      "Your steps showing how you are solving the puzzle\n",
      "Final Answer:\n",
      "Fill the following table to show your final answer.\n",
      "5 minutes | correct option from names | correct option from presidents | correct option from grades\n",
      "8 minutes | correct option from names | correct option from presidents | correct option from grades\n",
      "11 minutes | correct option from names | correct option from presidents | correct option from grades\n",
      "14 minutes | correct option from names | correct option from presidents | correct option from grades\n",
      "\", 'role': 'user'}]\n",
      "-.-.-.-.-.-.-.-.-.-.-.-.-.-.-.-.-.-.-.-.-.-.-.-.-.-.-.-.-.-.-.-.-.-.-.-.-.-.-.-.-.-.-.-.-.-.-.-.-.-.-.-.-.-.-.-.-.-.-.-.-.-.-.-.-.-.-.-.-.-.-.-.-.-.-.-.-.-.-.-.-.-.-.-.-.-.-.-.-.-.-.-.-.-.-.-.-.-.-.-.\n",
      "Step-by-step solution:\n",
      "1. Chris spoke for 5 minutes.\n",
      "2. Peggy gave the presentation on President Adams.\n",
      "3. The student who spoke for 8 minutes is Yvonne, so the presenter who gave the presentation on President Jackson must have spoken for 8 minutes.\n",
      "4. Chris gave the presentation on President Lincoln.\n",
      "5. The student who spoke for 8 minutes is Yvonne, so the presenter who gave the presentation on President Adams must have spoken for 8 minutes.\n",
      "6. Peggy gave the presentation on President Adams.\n",
      "7. The student who spoke for 11 minutes is Georgia, so the presenter who gave the presentation on President Jackson must have spoken for 11 minutes.\n",
      "8. Yvonne gave the presentation on President Lincoln.\n",
      "9. The student who gave the presentation on President Nixon must have spoken for 14 minutes.\n",
      "10. The presenter who gave the presentation on President Adams must have spoken for 5 minutes.\n",
      "\n",
      "Final Answer:\n",
      "| 5 minutes | Chris | Adams | B+ |\n",
      "| 8 minutes | Yvonne | Jackson | C- |\n",
      "| 11 minutes | Georgia | Lincoln | B- |\n",
      "| 14 minutes | Peggy | Nixon | D |\n",
      "-.-.-.-.-.-.-.-.-.-.-.-.-.-.-.-.-.-.-.-.-.-.-.-.-.-.-.-.-.-.-.-.-.-.-.-.-.-.-.-.-.-.-.-.-.-.-.-.-.-.-.-.-.-.-.-.-.-.-.-.-.-.-.-.-.-.-.-.-.-.-.-.-.-.-.-.-.-.-.-.-.-.-.-.-.-.-.-.-.-.-.-.-.-.-.-.-.-.-.-.\n",
      "5 minutes | Georgia | Jackson | D\n",
      "8 minutes | Chris | Lincoln | C-\n",
      "11 minutes | Peggy | Adams | B-\n",
      "14 minutes | Yvonne | Nixon | B+\n",
      "-.-.-.-.-.-.-.-.-.-.-.-.-.-.-.-.-.-.-.-.-.-.-.-.-.-.-.-.-.-.-.-.-.-.-.-.-.-.-.-.-.-.-.-.-.-.-.-.-.-.-.-.-.-.-.-.-.-.-.-.-.-.-.-.-.-.-.-.-.-.-.-.-.-.-.-.-.-.-.-.-.-.-.-.-.-.-.-.-.-.-.-.-.-.-.-.-.-.-.-.\n"
     ]
    }
   ],
   "source": [
    "prompt = \"\"\"[{'content': \"Several of Mrs. Albertson's U. S.  History students each gave an oral presentation today on a different American President. Using only the clues below, match the lengths to the options from names, presidents, and grades. Remember, as with all grid-based logic puzzles, no option in any category will ever be used more than once.\\n\\nlengths : 5 minutes, 8 minutes, 11 minutes, 14 minutes.\\nnames : Chris, Georgia, Peggy, Yvonne.\\npresidents : Adams, Jackson, Lincoln, Nixon.\\ngrades : B+, B-, C-, D.\\n\\nClues:\\n1. Yvonne got the B+.\\n2. Of Peggy and the presenter who spoke for 8 minutes, one got the C- and the other talked about President Adams.\\n3. Of the presenter who got the B+ and the student who gave the presentation on President Lincoln, one was Chris and the other spoke for 14 minutes.\\n4. The student who got the B- spoke for a somewhat longer time than the presenter who gave the presentation on President Jackson.\\n5. The student who spoke for 8 minutes was either Chris or Yvonne.\\n\\nWhile answering use the following format:\\nStep-by-step solution:\\nYour steps showing how you are solving the puzzle\\nFinal Answer:\\nFill the following table to show your final answer.\\n5 minutes | correct option from names | correct option from presidents | correct option from grades\\n8 minutes | correct option from names | correct option from presidents | correct option from grades\\n11 minutes | correct option from names | correct option from presidents | correct option from grades\\n14 minutes | correct option from names | correct option from presidents | correct option from grades\\n\", 'role': 'user'}]\"\"\"\n",
    "print(prompt)\n",
    "print(f'-.' * 100)\n",
    "\n",
    "prediction = 'Step-by-step solution:\\n1. Chris spoke for 5 minutes.\\n2. Peggy gave the presentation on President Adams.\\n3. The student who spoke for 8 minutes is Yvonne, so the presenter who gave the presentation on President Jackson must have spoken for 8 minutes.\\n4. Chris gave the presentation on President Lincoln.\\n5. The student who spoke for 8 minutes is Yvonne, so the presenter who gave the presentation on President Adams must have spoken for 8 minutes.\\n6. Peggy gave the presentation on President Adams.\\n7. The student who spoke for 11 minutes is Georgia, so the presenter who gave the presentation on President Jackson must have spoken for 11 minutes.\\n8. Yvonne gave the presentation on President Lincoln.\\n9. The student who gave the presentation on President Nixon must have spoken for 14 minutes.\\n10. The presenter who gave the presentation on President Adams must have spoken for 5 minutes.\\n\\nFinal Answer:\\n| 5 minutes | Chris | Adams | B+ |\\n| 8 minutes | Yvonne | Jackson | C- |\\n| 11 minutes | Georgia | Lincoln | B- |\\n| 14 minutes | Peggy | Nixon | D |'\n",
    "print(prediction)\n",
    "print(f'-.' * 100)\n",
    "\n",
    "solution ='5 minutes | Georgia | Jackson | D\\n8 minutes | Chris | Lincoln | C-\\n11 minutes | Peggy | Adams | B-\\n14 minutes | Yvonne | Nixon | B+'\n",
    "print(solution)\n",
    "print(f'-.' * 100)"
   ]
  },
  {
   "cell_type": "code",
   "execution_count": 41,
   "id": "9b855bc0",
   "metadata": {},
   "outputs": [],
   "source": [
    "# Constants for normalization\n",
    "SUBSTITUTIONS = [\n",
    "    (\"an \", \"\"),\n",
    "    (\"a \", \"\"),\n",
    "    (\".$\", \"$\"),\n",
    "    (\"\\\\$\", \"\"),\n",
    "    (r\"\\ \", \"\"),\n",
    "    (\" \", \"\"),\n",
    "    (\"mbox\", \"text\"),\n",
    "    (\",\\\\text{and}\", \",\"),\n",
    "    (\"\\\\text{and}\", \",\"),\n",
    "    (\"\\\\text{m}\", \"\\\\text{}\"),\n",
    "]\n",
    "\n",
    "REMOVED_EXPRESSIONS = [\n",
    "    \"square\",\n",
    "    \"ways\",\n",
    "    \"integers\",\n",
    "    \"dollars\",\n",
    "    \"mph\",\n",
    "    \"inches\",\n",
    "    \"hours\",\n",
    "    \"km\",\n",
    "    \"units\",\n",
    "    \"\\\\ldots\",\n",
    "    \"sue\",\n",
    "    \"points\",\n",
    "    \"feet\",\n",
    "    \"minutes\",\n",
    "    \"digits\",\n",
    "    \"cents\",\n",
    "    \"degrees\",\n",
    "    \"cm\",\n",
    "    \"gm\",\n",
    "    \"pounds\",\n",
    "    \"meters\",\n",
    "    \"meals\",\n",
    "    \"edges\",\n",
    "    \"students\",\n",
    "    \"childrentickets\",\n",
    "    \"multiples\",\n",
    "    \"\\\\text{s}\",\n",
    "    \"\\\\text{.}\",\n",
    "    \"\\\\text{\\ns}\",\n",
    "    \"\\\\text{}^2\",\n",
    "    \"\\\\text{}^3\",\n",
    "    \"\\\\text{\\n}\",\n",
    "    \"\\\\text{}\",\n",
    "    r\"\\mathrm{th}\",\n",
    "    r\"^\\circ\",\n",
    "    r\"^{\\circ}\",\n",
    "    r\"\\;\",\n",
    "    r\",\\!\",\n",
    "    \"{,}\",\n",
    "    '\"',\n",
    "    \"\\\\dots\",\n",
    "]"
   ]
  },
  {
   "cell_type": "code",
   "execution_count": 53,
   "id": "579df9c2",
   "metadata": {},
   "outputs": [],
   "source": [
    "def strict(pred_matrix, sol_matrix):\n",
    "    \"\"\"All rows should match exactly.\"\"\"\n",
    "    match = 0\n",
    "    for a_sol in sol_matrix:\n",
    "        for p_sol in pred_matrix:\n",
    "            if len(a_sol) != len(p_sol): return 0 \n",
    "            cnt = 0 \n",
    "            for a, p in zip(a_sol, p_sol):\n",
    "                if a == p: cnt += 1\n",
    "            if len(a_sol) == cnt: \n",
    "                match += 1\n",
    "    return 1.0 if len(sol_matrix) == match else 0.0 \n",
    "\n",
    "def relax(pred_matrix, sol_matrix):\n",
    "    \"\"\"Partial row matching is allowed.\"\"\"\n",
    "    match = 0\n",
    "    for a_sol in sol_matrix:\n",
    "        for p_sol in pred_matrix:\n",
    "            if len(a_sol) != len(p_sol): return 0 \n",
    "            cnt = 0 \n",
    "            for a, p in zip(a_sol, p_sol):\n",
    "                if a == p: cnt += 1\n",
    "            if len(a_sol) == cnt: \n",
    "                match += 1\n",
    "    return match/len(sol_matrix)"
   ]
  },
  {
   "cell_type": "code",
   "execution_count": 50,
   "id": "4c89e5e9",
   "metadata": {},
   "outputs": [
    {
     "name": "stdout",
     "output_type": "stream",
     "text": [
      "[['5', 'georgia', 'jackson', 'd'], ['8', 'chris', 'lincoln', 'c-'], ['11', 'peggy', 'adams', 'b-'], ['14', 'yvonne', 'nixon', 'b+']]\n",
      "[['5', 'chris', 'adams', 'b+'], ['8', 'yvonne', 'jackson', 'c-'], ['11', 'georgia', 'lincoln', 'b-'], ['14', 'peggy', 'nixon', 'd']]\n"
     ]
    }
   ],
   "source": [
    "import re \n",
    "\n",
    "def grid_map(arr):\n",
    "    matrix = []\n",
    "    for row in arr:\n",
    "        row = row.split('|')\n",
    "        temp_row = []\n",
    "        for x in row:\n",
    "            if x: temp_row.append(x)\n",
    "        row = [x.strip() for x in temp_row]\n",
    "        # Apply substitutions and removals\n",
    "        for idx, element in enumerate(row):\n",
    "            for before, after in SUBSTITUTIONS:\n",
    "                element = element.replace(before, after)\n",
    "            for expr in REMOVED_EXPRESSIONS:\n",
    "                element = element.replace(expr, \"\")\n",
    "            row[idx] = element\n",
    "        matrix.append(row)\n",
    "    return matrix\n",
    "\n",
    "def beautify_print(arr):\n",
    "    for x in arr:\n",
    "        print(x)\n",
    "    print(f'-.'*25)\n",
    "\n",
    "solution_lower = solution.lower()\n",
    "solution_arr, prediction_arr = [], []\n",
    "for x in solution_lower.split('\\n'):\n",
    "    solution_arr.append(x)\n",
    "# beautify_print(solution_arr)\n",
    "solution_arr_x = grid_map(solution_arr)\n",
    "print(grid_map(solution_arr))\n",
    "\n",
    "prediction_lower = prediction.lower()\n",
    "repeat = len(solution_arr)\n",
    "match_prediction = re.search(r'final answer\\s*:?' + r'\\s*(.*)'*repeat, prediction_lower)\n",
    "if match_prediction:\n",
    "    for idx in range(repeat):\n",
    "        prediction_arr.append(match_prediction.group(idx+1))\n",
    "# beautify_print(prediction_arr)\n",
    "prediction_arr_x = grid_map(prediction_arr)\n",
    "print(grid_map(prediction_arr))"
   ]
  },
  {
   "cell_type": "code",
   "execution_count": 52,
   "id": "d360ddc0",
   "metadata": {},
   "outputs": [
    {
     "data": {
      "text/plain": [
       "(1.0, 0.0)"
      ]
     },
     "execution_count": 52,
     "metadata": {},
     "output_type": "execute_result"
    }
   ],
   "source": [
    "strict(solution_arr_x, solution_arr_x), strict(solution_arr_x, prediction_arr_x)"
   ]
  },
  {
   "cell_type": "code",
   "execution_count": 55,
   "id": "aa93e2f3",
   "metadata": {},
   "outputs": [
    {
     "data": {
      "text/plain": [
       "(1.0, 0.0, 0.5)"
      ]
     },
     "execution_count": 55,
     "metadata": {},
     "output_type": "execute_result"
    }
   ],
   "source": [
    "from copy import deepcopy\n",
    "\n",
    "hybrid_prediction = deepcopy(prediction_arr_x)\n",
    "hybrid_prediction[0] = solution_arr_x[0].copy()\n",
    "hybrid_prediction[-1] = solution_arr_x[-1].copy()\n",
    "\n",
    "relax(solution_arr_x, solution_arr_x), \\\n",
    "    relax(solution_arr_x, prediction_arr_x), \\\n",
    "        relax(solution_arr_x, hybrid_prediction)\n"
   ]
  },
  {
   "cell_type": "markdown",
   "id": "5b7b2d5f",
   "metadata": {},
   "source": [
    "### validity"
   ]
  },
  {
   "cell_type": "code",
   "execution_count": 39,
   "id": "4c8162fa",
   "metadata": {},
   "outputs": [
    {
     "name": "stdout",
     "output_type": "stream",
     "text": [
      "| 5 minutes | chris | adams | b+ |\n",
      "['5 minutes', 'chris', 'adams', 'b+']\n"
     ]
    }
   ],
   "source": [
    "'''If prediction has less number of rows, group(x) will return nothing ~ OK'''\n",
    "'''If prediction has more number of rows, group(x) will return something ~ OK'''\n",
    "\n",
    "match_prediction = re.search(r'final answer\\s*:?' + r'\\s*(.*)'*(repeat+1), prediction_lower)\n",
    "if match_prediction:\n",
    "    print(match_prediction.group(1))\n",
    "    row = match_prediction.group(1)\n",
    "    row = row.split('|')\n",
    "    temp_row = []\n",
    "    for x in row:\n",
    "        if x: temp_row.append(x)\n",
    "    row = [x.strip() for x in temp_row]\n",
    "    print(row)"
   ]
  }
 ],
 "metadata": {
  "kernelspec": {
   "display_name": "ai (3.12.3)",
   "language": "python",
   "name": "python3"
  },
  "language_info": {
   "codemirror_mode": {
    "name": "ipython",
    "version": 3
   },
   "file_extension": ".py",
   "mimetype": "text/x-python",
   "name": "python",
   "nbconvert_exporter": "python",
   "pygments_lexer": "ipython3",
   "version": "3.12.3"
  }
 },
 "nbformat": 4,
 "nbformat_minor": 5
}
