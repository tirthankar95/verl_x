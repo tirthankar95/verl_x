{
 "cells": [
  {
   "cell_type": "code",
   "execution_count": 1,
   "id": "daa334ea",
   "metadata": {},
   "outputs": [],
   "source": [
    "import ray"
   ]
  },
  {
   "cell_type": "code",
   "execution_count": 2,
   "id": "e020d1db",
   "metadata": {},
   "outputs": [],
   "source": [
    "@ray.remote\n",
    "class ActorRolloutRef:\n",
    "    def __init__(self, name):\n",
    "        self.name = name \n",
    "    def get_name(self):\n",
    "        return self.name\n",
    "    \n",
    "class ActorRolloutRefOg:\n",
    "    def __init__(self, name):\n",
    "        self.name = name \n",
    "    def get_name(self):\n",
    "        return self.name"
   ]
  },
  {
   "cell_type": "code",
   "execution_count": 3,
   "id": "6cb40e3a",
   "metadata": {},
   "outputs": [
    {
     "name": "stderr",
     "output_type": "stream",
     "text": [
      "2025-08-31 00:46:47,794\tINFO worker.py:1747 -- Connecting to existing Ray cluster at address: 127.0.0.1:6379...\n",
      "2025-08-31 00:46:47,806\tINFO worker.py:1918 -- Connected to Ray cluster. View the dashboard at \u001b[1m\u001b[32mhttp://127.0.0.1:8265 \u001b[39m\u001b[22m\n"
     ]
    },
    {
     "data": {
      "text/plain": [
       "'Inception'"
      ]
     },
     "execution_count": 3,
     "metadata": {},
     "output_type": "execute_result"
    }
   ],
   "source": [
    "ray_worker = ray.remote(ActorRolloutRefOg)\n",
    "obj = ray_worker.remote('Inception')\n",
    "promise = obj.get_name.remote()\n",
    "ray.get(promise)"
   ]
  },
  {
   "cell_type": "code",
   "execution_count": 4,
   "id": "3bd2c54c",
   "metadata": {},
   "outputs": [
    {
     "data": {
      "text/plain": [
       "'Inception'"
      ]
     },
     "execution_count": 4,
     "metadata": {},
     "output_type": "execute_result"
    }
   ],
   "source": [
    "ray_worker = ActorRolloutRef.remote('Inception')\n",
    "promise = ray_worker.get_name.remote()\n",
    "ray.get(promise)"
   ]
  },
  {
   "cell_type": "code",
   "execution_count": 5,
   "id": "b87179e2",
   "metadata": {},
   "outputs": [
    {
     "name": "stderr",
     "output_type": "stream",
     "text": [
      "2025-08-31 01:34:14,685\tINFO worker.py:1747 -- Connecting to existing Ray cluster at address: 127.0.0.1:6379...\n",
      "2025-08-31 01:34:14,704\tINFO worker.py:1918 -- Connected to Ray cluster. View the dashboard at \u001b[1m\u001b[32mhttp://127.0.0.1:8265 \u001b[39m\u001b[22m\n"
     ]
    },
    {
     "data": {
      "text/plain": [
       "{'d9327891687774ad3e99128b4afa02d344320dcd8646990dac07d1a2': {'CPU': 8.0,\n",
       "  'memory': 9132425216.0,\n",
       "  'node:127.0.0.1': 1.0,\n",
       "  'object_store_memory': 2147483648.0,\n",
       "  'node:__internal_head__': 1.0}}"
      ]
     },
     "execution_count": 5,
     "metadata": {},
     "output_type": "execute_result"
    }
   ],
   "source": [
    "import ray\n",
    "\n",
    "ray.init()\n",
    "ray.state.available_resources_per_node()"
   ]
  },
  {
   "cell_type": "code",
   "execution_count": null,
   "id": "f78d5464",
   "metadata": {},
   "outputs": [],
   "source": []
  }
 ],
 "metadata": {
  "kernelspec": {
   "display_name": "ai",
   "language": "python",
   "name": "ai"
  },
  "language_info": {
   "codemirror_mode": {
    "name": "ipython",
    "version": 3
   },
   "file_extension": ".py",
   "mimetype": "text/x-python",
   "name": "python",
   "nbconvert_exporter": "python",
   "pygments_lexer": "ipython3",
   "version": "3.12.3"
  }
 },
 "nbformat": 4,
 "nbformat_minor": 5
}
