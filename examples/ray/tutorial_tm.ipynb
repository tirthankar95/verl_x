{
 "cells": [
  {
   "cell_type": "code",
   "execution_count": null,
   "id": "8a125226",
   "metadata": {},
   "outputs": [],
   "source": [
    "import ray\n",
    "import random \n",
    "import os \n",
    "import psutil\n",
    "random.seed(42)"
   ]
  },
  {
   "cell_type": "code",
   "execution_count": 39,
   "id": "ab2cca1f",
   "metadata": {},
   "outputs": [],
   "source": [
    "@ray.remote\n",
    "class Accumulator:\n",
    "    def __init__(self):\n",
    "        self.value = 0\n",
    "\n",
    "    def add(self, x):\n",
    "        self.value += sum(x)\n",
    "        return self.value"
   ]
  },
  {
   "cell_type": "code",
   "execution_count": 49,
   "id": "fc2a4eeb",
   "metadata": {},
   "outputs": [],
   "source": [
    "@ray.remote\n",
    "def fn_add(x):\n",
    "    pid = os.getpid()\n",
    "    return sum(x), psutil.Process(pid).cpu_num()"
   ]
  },
  {
   "cell_type": "code",
   "execution_count": 50,
   "id": "1265dd67",
   "metadata": {},
   "outputs": [
    {
     "data": {
      "text/plain": [
       "(1.0, 16.0)"
      ]
     },
     "execution_count": 50,
     "metadata": {},
     "output_type": "execute_result"
    }
   ],
   "source": [
    "'''\n",
    "Note: This gives you number of GPUs, not cores per GPU.\n",
    "You typically allocate per-GPU because Ray assigns tasks/actors per GPU.\n",
    "'''\n",
    "ray.cluster_resources().get('GPU', 0), ray.cluster_resources().get('CPU', 1)"
   ]
  },
  {
   "cell_type": "code",
   "execution_count": 51,
   "id": "a7fa14fe",
   "metadata": {},
   "outputs": [],
   "source": [
    "arr = [random.randint(0, 100) for _ in range(10000000)]\n",
    "SPLITS = int(ray.cluster_resources().get('CPU', 1))\n",
    "n = len(arr)"
   ]
  },
  {
   "cell_type": "code",
   "execution_count": 58,
   "id": "236d8ac0",
   "metadata": {},
   "outputs": [
    {
     "name": "stdout",
     "output_type": "stream",
     "text": [
      "CPU cores:{2, 8, 10, 12, 14}\n",
      "Total sum: 500065011\n",
      "CPU times: user 345 ms, sys: 39.7 ms, total: 385 ms\n",
      "Wall time: 343 ms\n"
     ]
    }
   ],
   "source": [
    "%%time\n",
    "lb, op = 0, []\n",
    "while lb < n:\n",
    "    ub = min(lb + n // SPLITS, n)\n",
    "    op.append(fn_add.remote(arr[lb:ub]))\n",
    "    lb = ub\n",
    "# Get the results from all remote calls\n",
    "results = ray.get(op)\n",
    "print('CPU cores:' + str(set(cpu for add, cpu in results)))\n",
    "# The sum is the sum of all accumulator results\n",
    "total = sum([add for add, cpu in results])\n",
    "print('Total sum:', total)"
   ]
  },
  {
   "cell_type": "code",
   "execution_count": 59,
   "id": "098d0cd1",
   "metadata": {},
   "outputs": [
    {
     "name": "stdout",
     "output_type": "stream",
     "text": [
      "Total sum: 500065011\n",
      "CPU times: user 26.4 ms, sys: 0 ns, total: 26.4 ms\n",
      "Wall time: 26.2 ms\n"
     ]
    }
   ],
   "source": [
    "%%time \n",
    "print('Total sum:', sum(arr))"
   ]
  },
  {
   "cell_type": "markdown",
   "id": "11751f35",
   "metadata": {},
   "source": [
    "## Task"
   ]
  },
  {
   "cell_type": "markdown",
   "id": "45aa57f0",
   "metadata": {},
   "source": [
    "**You cannot control sum, that why the advantage is not showing.**\n",
    "**To show the advantage, we simulate a task which takes 1s.**\n"
   ]
  },
  {
   "cell_type": "code",
   "execution_count": 64,
   "id": "cdee1a39",
   "metadata": {},
   "outputs": [],
   "source": [
    "import time\n",
    "\n",
    "def task_s():\n",
    "    time.sleep(1)\n",
    "\n",
    "@ray.remote\n",
    "def task():\n",
    "    time.sleep(1)"
   ]
  },
  {
   "cell_type": "code",
   "execution_count": 65,
   "id": "b478973f",
   "metadata": {},
   "outputs": [
    {
     "name": "stdout",
     "output_type": "stream",
     "text": [
      "CPU times: user 34.2 ms, sys: 12.7 ms, total: 46.9 ms\n",
      "Wall time: 10 s\n"
     ]
    }
   ],
   "source": [
    "%%time \n",
    "# Sequential \n",
    "JOBS = 10\n",
    "for _ in range(JOBS):\n",
    "    task_s()"
   ]
  },
  {
   "cell_type": "code",
   "execution_count": 67,
   "id": "91f606e5",
   "metadata": {},
   "outputs": [
    {
     "name": "stdout",
     "output_type": "stream",
     "text": [
      "CPU times: user 12.1 ms, sys: 4.27 ms, total: 16.4 ms\n",
      "Wall time: 1.01 s\n"
     ]
    }
   ],
   "source": [
    "%%time \n",
    "# Parallel \n",
    "JOBS = 10\n",
    "op = [task.remote() for _ in range(JOBS)]\n",
    "result = ray.get(op)"
   ]
  }
 ],
 "metadata": {
  "kernelspec": {
   "display_name": "Python 3",
   "language": "python",
   "name": "python3"
  },
  "language_info": {
   "codemirror_mode": {
    "name": "ipython",
    "version": 3
   },
   "file_extension": ".py",
   "mimetype": "text/x-python",
   "name": "python",
   "nbconvert_exporter": "python",
   "pygments_lexer": "ipython3",
   "version": "3.12.3"
  }
 },
 "nbformat": 4,
 "nbformat_minor": 5
}
